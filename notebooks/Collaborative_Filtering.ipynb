{
  "cells": [
    {
      "cell_type": "code",
      "execution_count": null,
      "metadata": {
        "colab": {
          "base_uri": "https://localhost:8080/"
        },
        "id": "fqZQMT2WW8sP",
        "outputId": "9184657b-84fd-4a77-b032-051dd5474052"
      },
      "outputs": [],
      "source": [
        "!pip install kagglehub --upgrade"
      ]
    },
    {
      "cell_type": "code",
      "execution_count": null,
      "metadata": {
        "colab": {
          "base_uri": "https://localhost:8080/",
          "height": 35
        },
        "id": "4RJYi7WNgLP2",
        "outputId": "f1b31c6a-b30f-4891-d639-e8054d3cdaa1"
      },
      "outputs": [],
      "source": [
        "import kagglehub\n",
        "\n",
        "kagglehub.dataset_download(\"undefinenull/million-song-dataset-spotify-lastfm\")"
      ]
    },
    {
      "cell_type": "code",
      "execution_count": null,
      "metadata": {
        "id": "d1m3vI6wgLNP"
      },
      "outputs": [],
      "source": [
        "import os\n",
        "from pathlib import Path\n",
        "import pandas as pd\n",
        "import numpy as np\n",
        "import matplotlib.pyplot as plt\n",
        "import seaborn as sns\n",
        "\n",
        "pd.set_option('display.max_rows',None)\n",
        "pd.set_option('display.max_columns',None)"
      ]
    },
    {
      "cell_type": "code",
      "execution_count": null,
      "metadata": {
        "id": "vrzUX-vjgLKp"
      },
      "outputs": [],
      "source": [
        "data_path = Path(\"/root/.cache/kagglehub/datasets/undefinenull/million-song-dataset-spotify-lastfm/versions/1\")\n",
        "\n",
        "\n",
        "songs_data_path = data_path / 'Music Info.csv'\n",
        "users_data_path = data_path / 'User Listening History.csv'"
      ]
    },
    {
      "cell_type": "code",
      "execution_count": null,
      "metadata": {
        "colab": {
          "base_uri": "https://localhost:8080/",
          "height": 204
        },
        "id": "0YI1ZIBRgLIC",
        "outputId": "ce33fefc-5f98-4c75-b30f-b45bdc4414e1"
      },
      "outputs": [],
      "source": [
        "# songs_data\n",
        "\n",
        "songs_df = pd.read_csv(songs_data_path, usecols=[\"track_id\",\"name\",\"artist\",\"spotify_preview_url\"])\n",
        "\n",
        "songs_df.head()"
      ]
    },
    {
      "cell_type": "markdown",
      "metadata": {
        "id": "dfh-NFvQgabg"
      },
      "source": [
        "# Dask\n",
        "For handling out the big data."
      ]
    },
    {
      "cell_type": "code",
      "execution_count": null,
      "metadata": {
        "colab": {
          "base_uri": "https://localhost:8080/"
        },
        "id": "t6y5ZYMhgLFm",
        "outputId": "5d447db7-c3ae-4750-cabe-e9429a6bbecb"
      },
      "outputs": [],
      "source": [
        "!pip install dask[dataframe]"
      ]
    },
    {
      "cell_type": "code",
      "execution_count": null,
      "metadata": {
        "colab": {
          "base_uri": "https://localhost:8080/",
          "height": 204
        },
        "id": "c9FK9043glHp",
        "outputId": "83f13eb0-0298-4cf1-e742-cf6decfc9cfb"
      },
      "outputs": [],
      "source": [
        "# loading the dask library\n",
        "import dask.dataframe as dd\n",
        "\n",
        "# Loading and reading the dataset\n",
        "df = dd.read_csv(users_data_path)\n",
        "\n",
        "# Check the first few rows to verify the data\n",
        "df.head()"
      ]
    },
    {
      "cell_type": "code",
      "execution_count": null,
      "metadata": {
        "colab": {
          "base_uri": "https://localhost:8080/",
          "height": 269
        },
        "id": "REz1Q8PbgshV",
        "outputId": "a02cc383-8c77-4baa-9359-5c1919e9c21e"
      },
      "outputs": [],
      "source": [
        "df"
      ]
    },
    {
      "cell_type": "markdown",
      "metadata": {
        "id": "ybztdti2hZmF"
      },
      "source": [
        "Here values are not getting printed because \"Dask\" is storing the values in chunks. So in order to save memory it stores the metadata of the values and not the actual values. If we want to the values then we can use the \"compute()\" function."
      ]
    },
    {
      "cell_type": "code",
      "execution_count": null,
      "metadata": {
        "colab": {
          "base_uri": "https://localhost:8080/",
          "height": 204
        },
        "id": "Mreb-DdNh1lV",
        "outputId": "700616c4-84bb-4476-e52a-4389ba7df53b"
      },
      "outputs": [],
      "source": [
        "df.compute().head()"
      ]
    },
    {
      "cell_type": "markdown",
      "metadata": {
        "id": "ju3_LRPiivcV"
      },
      "source": [
        "If want to see what are the partitions made then we can use \"visualize()\" function."
      ]
    },
    {
      "cell_type": "code",
      "execution_count": null,
      "metadata": {
        "colab": {
          "base_uri": "https://localhost:8080/",
          "height": 176
        },
        "id": "JKT9ygAEi2Y-",
        "outputId": "c1d94b86-5ea7-43a9-f4a2-3ff762ef14fb"
      },
      "outputs": [],
      "source": [
        "df.visualize()"
      ]
    },
    {
      "cell_type": "code",
      "execution_count": null,
      "metadata": {
        "colab": {
          "base_uri": "https://localhost:8080/",
          "height": 402
        },
        "id": "goLRE6l7i4Wt",
        "outputId": "8e23025c-a179-4364-dbb3-67bdae28def2"
      },
      "outputs": [],
      "source": [
        "df.visualize(tasks=True)"
      ]
    },
    {
      "cell_type": "markdown",
      "metadata": {
        "id": "u9c5ESgwjAjK"
      },
      "source": [
        "So as we can see here a total of 9 chunks has been created by \"Dask\". The default value of the chunk size is : `64 mb`"
      ]
    },
    {
      "cell_type": "code",
      "execution_count": null,
      "metadata": {
        "colab": {
          "base_uri": "https://localhost:8080/"
        },
        "id": "sz5XExM0i9X1",
        "outputId": "082f9b58-788f-43d9-abe9-6b74190d225c"
      },
      "outputs": [],
      "source": [
        "# to get the total number of partitions made :\n",
        "df.npartitions"
      ]
    },
    {
      "cell_type": "code",
      "execution_count": null,
      "metadata": {
        "colab": {
          "base_uri": "https://localhost:8080/"
        },
        "id": "1y_BQQ1Zj9gC",
        "outputId": "db2a2de8-6512-4b89-fc4a-73b0d9188807"
      },
      "outputs": [],
      "source": [
        "# number of unique tracks in the data\n",
        "unique_tracks = df.track_id.nunique() # here we will have the dask scaler object.\n",
        "unique_tracks = unique_tracks.compute()\n",
        "unique_tracks"
      ]
    },
    {
      "cell_type": "code",
      "execution_count": null,
      "metadata": {
        "colab": {
          "base_uri": "https://localhost:8080/",
          "height": 464
        },
        "collapsed": true,
        "id": "bC2jewA3nWQ-",
        "outputId": "cf4f4ccd-9a1d-4085-c4a3-457d7e10308e"
      },
      "outputs": [],
      "source": [
        "# to visulaize the task graph of 'unique_tracks'\n",
        "unique_tracks.visualize()"
      ]
    },
    {
      "cell_type": "code",
      "execution_count": null,
      "metadata": {
        "colab": {
          "base_uri": "https://localhost:8080/",
          "height": 322
        },
        "collapsed": true,
        "id": "rCO-ZNyooqvJ",
        "outputId": "5308bc23-23c6-42f5-ec14-9900cdae66e4"
      },
      "outputs": [],
      "source": [
        "unique_tracks.visualize(tasks=True)"
      ]
    },
    {
      "cell_type": "code",
      "execution_count": null,
      "metadata": {
        "colab": {
          "base_uri": "https://localhost:8080/"
        },
        "id": "zPkhu-J4oKBs",
        "outputId": "b20fca34-3f8a-4167-eb1c-53bdcc18d54a"
      },
      "outputs": [],
      "source": [
        "# number of unique users in the data\n",
        "unique_users = df.user_id.nunique()\n",
        "unique_users"
      ]
    },
    {
      "cell_type": "code",
      "execution_count": null,
      "metadata": {
        "colab": {
          "base_uri": "https://localhost:8080/",
          "height": 464
        },
        "collapsed": true,
        "id": "zhamb0avAK-O",
        "outputId": "597ebd6a-e178-4711-cf18-344201ecc6a0"
      },
      "outputs": [],
      "source": [
        "unique_users.visualize()"
      ]
    },
    {
      "cell_type": "code",
      "execution_count": null,
      "metadata": {
        "colab": {
          "base_uri": "https://localhost:8080/"
        },
        "id": "c8oP9q3wANsH",
        "outputId": "3835d9e5-181e-45a1-a327-c5576eb76a25"
      },
      "outputs": [],
      "source": [
        "unique_users = unique_users.compute()\n",
        "unique_users"
      ]
    },
    {
      "cell_type": "code",
      "execution_count": null,
      "metadata": {
        "colab": {
          "base_uri": "https://localhost:8080/",
          "height": 368
        },
        "collapsed": true,
        "id": "oMERdet0AUun",
        "outputId": "91ccefe7-7302-41fa-b903-606a97bd083e"
      },
      "outputs": [],
      "source": [
        "# list of unique track ids\n",
        "unique_track_id = df.track_id.unique()\n",
        "unique_track_id.visualize()"
      ]
    },
    {
      "cell_type": "code",
      "execution_count": null,
      "metadata": {
        "colab": {
          "base_uri": "https://localhost:8080/",
          "height": 1000
        },
        "collapsed": true,
        "id": "UrxBMHldAqTQ",
        "outputId": "73aa4945-e34c-4d3b-ffca-60fa7cc2f344"
      },
      "outputs": [],
      "source": [
        "unique_track_id = unique_track_id.compute()\n",
        "unique_track_id"
      ]
    },
    {
      "cell_type": "code",
      "execution_count": null,
      "metadata": {
        "id": "4k-3X3a6A2IQ"
      },
      "outputs": [],
      "source": [
        "# filtered songs\n",
        "\n",
        "filtered_songs = songs_df[songs_df[\"track_id\"].isin(unique_track_id)]\n",
        "\n",
        "filtered_songs.reset_index(drop=True, inplace=True)"
      ]
    },
    {
      "cell_type": "code",
      "execution_count": null,
      "metadata": {
        "colab": {
          "base_uri": "https://localhost:8080/",
          "height": 204
        },
        "id": "1TZwX9StO1eG",
        "outputId": "bdfe9f8f-82db-42ae-9254-09404bdf98f9"
      },
      "outputs": [],
      "source": [
        "filtered_songs.head()"
      ]
    },
    {
      "cell_type": "markdown",
      "metadata": {
        "id": "Ce_aGEvvO8fG"
      },
      "source": [
        "# Merging Process"
      ]
    },
    {
      "cell_type": "code",
      "execution_count": null,
      "metadata": {
        "id": "KDBWxiVNO29D"
      },
      "outputs": [],
      "source": [
        "import dask.dataframe as dd\n",
        "import numpy as np\n",
        "from scipy.sparse import csr_matrix\n",
        "\n",
        "# Step 1: Load data with Dask\n",
        "# Assume the dataset is in a CSV file\n",
        "\n",
        "df = dd.read_csv(users_data_path)\n",
        "\n",
        "# Step 2: Ensure playcount is numeric\n",
        "df['playcount'] = df['playcount'].astype(np.float64)\n",
        "\n",
        "# \"categorize() : it converts the column into category dtype and helps in size reduction\"\n",
        "df = df.categorize(columns=['user_id', 'track_id'])\n",
        "\n",
        "\n",
        "# Step 3: Convert user_id and track_id to numeric indices\n",
        "# This is necessary for creating a sparse matrix later\n",
        "user_mapping = df['user_id'].cat.codes # .cat : .str\n",
        "track_mapping = df['track_id'].cat.codes # codes : will convert to 'int'\n",
        "\n",
        "df = df.assign(\n",
        "    user_idx=user_mapping,\n",
        "    track_idx=track_mapping\n",
        ")"
      ]
    },
    {
      "cell_type": "code",
      "execution_count": null,
      "metadata": {
        "colab": {
          "base_uri": "https://localhost:8080/",
          "height": 1000
        },
        "id": "Myv4Vp0qVJc-",
        "outputId": "73252e55-8d94-4355-a043-ae747ba03d14"
      },
      "outputs": [],
      "source": [
        "df.visualize(tasks=True)"
      ]
    },
    {
      "cell_type": "code",
      "execution_count": null,
      "metadata": {
        "colab": {
          "base_uri": "https://localhost:8080/",
          "height": 1000
        },
        "id": "7g9DEERoVN6a",
        "outputId": "b5872db0-c0a5-49d8-c0fd-d3f8f45aff3a"
      },
      "outputs": [],
      "source": [
        "# Step 4: Compute the interaction matrix\n",
        "# Dask doesn't support pivot tables directly, so we aggregate manually\n",
        "interaction_array = df.groupby(['track_idx', 'user_idx'])['playcount'].sum().reset_index()\n",
        "\n",
        "interaction_array.visualize(tasks=True)"
      ]
    },
    {
      "cell_type": "code",
      "execution_count": null,
      "metadata": {
        "colab": {
          "base_uri": "https://localhost:8080/",
          "height": 176
        },
        "id": "nlCx197IWx9V",
        "outputId": "f89c1122-c149-4b91-946b-ee47f599282d"
      },
      "outputs": [],
      "source": [
        "\"\"\"\n",
        "As we haven't computed it so we will not be able to see any data/value.\n",
        "\"\"\"\n",
        "interaction_array"
      ]
    },
    {
      "cell_type": "code",
      "execution_count": null,
      "metadata": {
        "colab": {
          "base_uri": "https://localhost:8080/",
          "height": 35
        },
        "id": "DKi1tJQ6WypC",
        "outputId": "eee50ee2-6b14-43ab-dbf6-c11ed6cce8f2"
      },
      "outputs": [],
      "source": [
        "# computing the interaction array\n",
        "interaction_array = interaction_array.compute()\n",
        "\"\"\"\n",
        "We will be getting a pandas dataframe and not Dask dataframe.\n",
        "\"\"\""
      ]
    },
    {
      "cell_type": "code",
      "execution_count": null,
      "metadata": {
        "colab": {
          "base_uri": "https://localhost:8080/",
          "height": 203
        },
        "id": "ukd4ONpzYdTA",
        "outputId": "5992f4f0-7260-4cca-ca7a-7040bd90dfe8"
      },
      "outputs": [],
      "source": [
        "type(interaction_array)"
      ]
    },
    {
      "cell_type": "code",
      "execution_count": null,
      "metadata": {
        "colab": {
          "base_uri": "https://localhost:8080/",
          "height": 204
        },
        "id": "1FZJeCsYYe6J",
        "outputId": "9a577591-1134-4eab-bf40-e0efc7dc587e"
      },
      "outputs": [],
      "source": [
        "interaction_array.head()"
      ]
    },
    {
      "cell_type": "code",
      "execution_count": null,
      "metadata": {
        "id": "zaQ_Poz5YhFn"
      },
      "outputs": [],
      "source": [
        "# Step 5: Create a sparse matrix\n",
        "# Collect the data into a NumPy-friendly format\n",
        "\n",
        "row_indices = interaction_array['track_idx']\n",
        "col_indices = interaction_array['user_idx']\n",
        "values = interaction_array['playcount']"
      ]
    },
    {
      "cell_type": "code",
      "execution_count": null,
      "metadata": {
        "colab": {
          "base_uri": "https://localhost:8080/"
        },
        "id": "xmpt3YI9imrv",
        "outputId": "484ac874-4735-4711-b4af-221644d2e59c"
      },
      "outputs": [],
      "source": [
        "row_indices.nunique()"
      ]
    },
    {
      "cell_type": "code",
      "execution_count": null,
      "metadata": {
        "colab": {
          "base_uri": "https://localhost:8080/"
        },
        "id": "X-k_2aRZimpN",
        "outputId": "2aee9aea-bf63-4d13-9905-79e8dd863724"
      },
      "outputs": [],
      "source": [
        "# Build a sparse matrix\n",
        "n_tracks = unique_tracks\n",
        "n_users = unique_users\n",
        "\n",
        "sparse_matrix = csr_matrix((values, (row_indices, col_indices)), shape=(n_tracks, n_users))\n",
        "\n",
        "print(\"Sparse matrix shape:\", sparse_matrix.shape)\n",
        "print(\"Non-zero elements:\", sparse_matrix.nnz)"
      ]
    },
    {
      "cell_type": "code",
      "execution_count": null,
      "metadata": {
        "colab": {
          "base_uri": "https://localhost:8080/"
        },
        "id": "fl_gqsejiqqu",
        "outputId": "c55964b6-e6ab-46f8-ae75-faff2db43357"
      },
      "outputs": [],
      "source": [
        "sparse_matrix"
      ]
    },
    {
      "cell_type": "code",
      "execution_count": null,
      "metadata": {
        "colab": {
          "base_uri": "https://localhost:8080/"
        },
        "id": "99on0dpfiqmw",
        "outputId": "1ffe97cf-b2b6-4a5e-df6e-7b1b9a34bf68"
      },
      "outputs": [],
      "source": [
        "(sparse_matrix.nnz / (sparse_matrix.shape[0] * sparse_matrix.shape[1]))*100"
      ]
    },
    {
      "cell_type": "code",
      "execution_count": null,
      "metadata": {
        "colab": {
          "base_uri": "https://localhost:8080/"
        },
        "id": "YaoEhzh2iwY1",
        "outputId": "fa3b007e-94af-4cd3-c428-e80f46040e4a"
      },
      "outputs": [],
      "source": [
        "sparse_matrix[0]"
      ]
    },
    {
      "cell_type": "markdown",
      "metadata": {
        "id": "-yqd7oN-jv5X"
      },
      "source": [
        "# Calculating Cosine"
      ]
    },
    {
      "cell_type": "code",
      "execution_count": null,
      "metadata": {
        "id": "qkm0IFXOjx24"
      },
      "outputs": [],
      "source": [
        "from sklearn.metrics.pairwise import cosine_similarity"
      ]
    },
    {
      "cell_type": "code",
      "execution_count": null,
      "metadata": {
        "colab": {
          "base_uri": "https://localhost:8080/"
        },
        "id": "WU5M-jpKjz8Q",
        "outputId": "57bb067e-79da-400d-ffa0-a270d2f88e7a"
      },
      "outputs": [],
      "source": [
        "np.where(df['track_id'].cat.categories == \"TROINZB128F932F740\")"
      ]
    },
    {
      "cell_type": "code",
      "execution_count": null,
      "metadata": {
        "id": "wZcUUzobjz58"
      },
      "outputs": [],
      "source": [
        "ind = 17018"
      ]
    },
    {
      "cell_type": "code",
      "execution_count": null,
      "metadata": {
        "colab": {
          "base_uri": "https://localhost:8080/"
        },
        "id": "M53KrMeFkB3j",
        "outputId": "1879a2bd-8cdd-4ce0-cbf6-968add66b09f"
      },
      "outputs": [],
      "source": [
        "input_array = sparse_matrix[ind]\n",
        "\n",
        "input_array"
      ]
    },
    {
      "cell_type": "code",
      "execution_count": null,
      "metadata": {
        "id": "o0gRSGvtkB1F"
      },
      "outputs": [],
      "source": [
        "similarity_scores = cosine_similarity(input_array, sparse_matrix)"
      ]
    },
    {
      "cell_type": "code",
      "execution_count": null,
      "metadata": {
        "colab": {
          "base_uri": "https://localhost:8080/"
        },
        "id": "cRazvZfJkByv",
        "outputId": "420eeeb6-4233-4fc9-cec3-82cf708f3913"
      },
      "outputs": [],
      "source": [
        "np.sort(similarity_scores)[-6:][::-1]"
      ]
    },
    {
      "cell_type": "code",
      "execution_count": null,
      "metadata": {
        "colab": {
          "base_uri": "https://localhost:8080/"
        },
        "id": "GMcoe_nNkBwX",
        "outputId": "27c8fdfd-19e0-40c9-d6f8-6103af7a4b4f"
      },
      "outputs": [],
      "source": [
        "np.argsort(similarity_scores.ravel())[-6:][::-1]"
      ]
    },
    {
      "cell_type": "code",
      "execution_count": null,
      "metadata": {
        "id": "h2uEZk5_lEc-"
      },
      "outputs": [],
      "source": [
        "recommendations = df['track_id'].cat.categories[np.argsort(similarity_scores.ravel())[-6:][::-1]]"
      ]
    },
    {
      "cell_type": "code",
      "execution_count": null,
      "metadata": {
        "colab": {
          "base_uri": "https://localhost:8080/"
        },
        "id": "mAkXNhzqlEai",
        "outputId": "3e6f062e-624d-42a5-a978-3a277702f759"
      },
      "outputs": [],
      "source": [
        "recommendations"
      ]
    },
    {
      "cell_type": "code",
      "execution_count": null,
      "metadata": {
        "colab": {
          "base_uri": "https://localhost:8080/",
          "height": 80
        },
        "id": "HKwNG7i4lG0V",
        "outputId": "2a2b0dd7-073a-405e-8dfe-7527efaeebaa"
      },
      "outputs": [],
      "source": [
        "filtered_songs[filtered_songs[\"name\"] == \"Crazy in Love\"]"
      ]
    },
    {
      "cell_type": "code",
      "execution_count": null,
      "metadata": {
        "colab": {
          "base_uri": "https://localhost:8080/",
          "height": 235
        },
        "id": "gHjgPtoslGyM",
        "outputId": "5062ec81-f408-4476-d1b2-f884678df6c8"
      },
      "outputs": [],
      "source": [
        "filtered_songs[filtered_songs[\"track_id\"].isin(recommendations)]"
      ]
    },
    {
      "cell_type": "code",
      "execution_count": null,
      "metadata": {
        "id": "6cAfrFBqlGwA"
      },
      "outputs": [],
      "source": [
        "def collaborative_recommendation(song_name,user_data,songs_data,interaction_matrix,k=5):\n",
        "    # fetch the row from songs data\n",
        "    song_row = songs_data[songs_data[\"name\"] == song_name]\n",
        "    print(song_row)\n",
        "    # track_id of input song\n",
        "    input_track_id = song_row['track_id'].values.item()\n",
        "    print(input_track_id)\n",
        "    # index value of track_id\n",
        "    ind = np.where(user_data['track_id'].cat.categories == input_track_id)[0].item()\n",
        "    print(ind)\n",
        "    # fetch the input vector\n",
        "    input_array = interaction_matrix[ind]\n",
        "    # get similarity scores\n",
        "    similarity_scores = cosine_similarity(input_array, interaction_matrix)\n",
        "    # get top k recommendations\n",
        "    recommendation_track_ids = df['track_id'].cat.categories[np.argsort(similarity_scores.ravel())[-k-1:][::-1]]\n",
        "    print(recommendation_track_ids)\n",
        "    # get top scores\n",
        "    top_scores = np.sort(similarity_scores.ravel())[-k-1:][::-1]\n",
        "    print(top_scores)\n",
        "    # get the songs from data and print\n",
        "    temp_df = pd.DataFrame({\"track_id\":recommendation_track_ids.tolist(),\n",
        "                            \"score\":top_scores})\n",
        "    print(temp_df)\n",
        "    top_k_songs = (\n",
        "                    songs_data\n",
        "                    .loc[songs_data[\"track_id\"].isin(recommendation_track_ids)]\n",
        "                    .merge(temp_df,on=\"track_id\")\n",
        "                    .sort_values(by=\"score\",ascending=False)\n",
        "                    .drop(columns=[\"track_id\",\"score\"])\n",
        "                    .reset_index(drop=True)\n",
        "                    )\n",
        "    return top_k_songs"
      ]
    },
    {
      "cell_type": "code",
      "execution_count": null,
      "metadata": {
        "colab": {
          "base_uri": "https://localhost:8080/",
          "height": 541
        },
        "id": "c7KvK2bdlGtm",
        "outputId": "470c0584-a4aa-4275-d587-a6540e344af6"
      },
      "outputs": [],
      "source": [
        "collaborative_recommendation(song_name=\"Crazy in Love\",\n",
        "                             user_data=df,\n",
        "                             songs_data=filtered_songs,\n",
        "                             interaction_matrix=sparse_matrix)"
      ]
    }
  ],
  "metadata": {
    "colab": {
      "provenance": []
    },
    "kernelspec": {
      "display_name": "Python 3",
      "name": "python3"
    },
    "language_info": {
      "name": "python"
    }
  },
  "nbformat": 4,
  "nbformat_minor": 0
}
